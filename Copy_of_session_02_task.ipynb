{
  "nbformat": 4,
  "nbformat_minor": 0,
  "metadata": {
    "colab": {
      "provenance": []
    },
    "kernelspec": {
      "name": "python3",
      "display_name": "Python 3"
    },
    "language_info": {
      "name": "python"
    }
  },
  "cells": [
    {
      "cell_type": "markdown",
      "source": [
        "### `Problem 1`: Write a program that will give you in hand monthly salary after deduction on CTC - HRA(10%), DA(5%), PF(3%) and taxes deduction as below:\n",
        "\n",
        "> Salary(Lakhs) : Tax(%)\n",
        "\n",
        "*   Below 5 : 0%\n",
        "*   5-10 : 10%\n",
        "*   10-20 : 20%\n",
        "*   aboove 20 : 30%"
      ],
      "metadata": {
        "id": "w6RlOAXV2PWh"
      }
    },
    {
      "cell_type": "code",
      "source": [
        "# Write code here\n",
        "#10%+5%+3%=18%\n",
        "total_deductions = 18\n",
        "CTC = float(input(\"Enter the CTC in LPA: \"))\n",
        "salary=None\n",
        "if CTC <= 5:\n",
        "  salary = CTC-CTC*(total_deductions/100) # additional tax= 0%\n",
        "elif CTC>5 and CTC<=10:\n",
        "  salary = CTC-CTC*(total_deductions+10)/100 # additional tax= 10%\n",
        "elif CTC>10 and CTC<=20:\n",
        "  salary = CTC-CTC*(total_deductions+20)/100 # additional tax= 20%\n",
        "else:\n",
        "  salary = CTC-CTC*(total_deductions+30)/100 # additional tax= 30%\n",
        "print(\"Your CTC is {} and in per month hand Salary is {}\".format(CTC,round(salary*100000/12,0)))"
      ],
      "metadata": {
        "id": "7tMHvKYO2etI",
        "colab": {
          "base_uri": "https://localhost:8080/"
        },
        "outputId": "208cbf2b-4dfc-4234-b7bd-02cf6566989f"
      },
      "execution_count": null,
      "outputs": [
        {
          "output_type": "stream",
          "name": "stdout",
          "text": [
            "Enter the CTC in LPA: 10\n",
            "Your CTC is 10.0 and in per month hand Salary is 60000.0\n"
          ]
        }
      ]
    },
    {
      "cell_type": "markdown",
      "source": [
        "### `Problem 2`: Write a program that take a user input of three angles and will find out whether it can form a triangle or not."
      ],
      "metadata": {
        "id": "tYzCGqwl2hfN"
      }
    },
    {
      "cell_type": "code",
      "source": [
        "# Write code here\n",
        "angle1=float(input(\"Enter the First Angle: \"))\n",
        "angle2=float(input(\"Enter the second Angle: \"))\n",
        "angle3=float(input(\"Enter the third Angle: \"))\n",
        "\n",
        "if angle1+angle2+angle3==180:\n",
        "  print(\"The angles {},{},{} belongs to a triangle\".format(angle1,angle2,angle3))\n",
        "else:\n",
        "  print(\"Not a valid triangle as angle sum is: {}\".format(angle1+angle2+angle3))"
      ],
      "metadata": {
        "id": "FYEqln-I2kxV",
        "colab": {
          "base_uri": "https://localhost:8080/"
        },
        "outputId": "c9bd07d5-c7fe-4241-e338-77f3fd915c6c"
      },
      "execution_count": null,
      "outputs": [
        {
          "output_type": "stream",
          "name": "stdout",
          "text": [
            "Enter the First Angle: 70\n",
            "Enter the second Angle: 75\n",
            "Enter the third Angle: 50\n",
            "Not a valid triangle as angle sum is: 195.0\n"
          ]
        }
      ]
    },
    {
      "cell_type": "markdown",
      "source": [
        "### `Problem 3`: Write a program that will take user input of cost price and selling price and determines whether its a loss or a profit."
      ],
      "metadata": {
        "id": "5vEpPh8C2pE4"
      }
    },
    {
      "cell_type": "code",
      "source": [
        "# Write code here\n",
        "cost_price = float(input(\"Enter the cost price\"))\n",
        "selling_price = float(input(\"Enter the selling price\"))\n",
        "differnce = selling_price-cost_price\n",
        "if differnce>0:\n",
        "  profit = ((selling_price-cost_price)/cost_price)*100\n",
        "  print(\"Your profit is {}%\".format(profit))\n",
        "else:\n",
        "  loss=((-selling_price+cost_price)/cost_price)*100\n",
        "  print(\"Your loss is {}%\".format(loss))"
      ],
      "metadata": {
        "id": "jDwBXlkO2sfl",
        "colab": {
          "base_uri": "https://localhost:8080/"
        },
        "outputId": "eb3e8283-d5df-468d-e3cc-8b61293cbeae"
      },
      "execution_count": null,
      "outputs": [
        {
          "output_type": "stream",
          "name": "stdout",
          "text": [
            "Enter the cost price400\n",
            "Enter the selling price300\n",
            "Your loss is 25.0%\n"
          ]
        }
      ]
    },
    {
      "cell_type": "markdown",
      "source": [
        "### `Problem 4`: Write a menu-driven program -\n",
        "1. cm to ft\n",
        "2. km to miles\n",
        "3. USD to INR\n",
        "4. exit"
      ],
      "metadata": {
        "id": "J_FG_cJW2ugT"
      }
    },
    {
      "cell_type": "code",
      "source": [
        "# Write code here\n",
        "choice = int(input(\"\"\"\n",
        "            Press 1 to cm to fit:\n",
        "            Press 2 for Km to miles conversion:\n",
        "            Press 3 to USD to INR:\n",
        "            Press 4 to exit:\n",
        "            \"\"\"))\n",
        "if choice == 1:\n",
        "  centimeter = float(input(\"Enter the centimeter measure: \"))\n",
        "  cm_to_fit = centimeter/(12*2.54)\n",
        "  print(\"{}cm equivalent to {} feet\".format(centimeter,round(cm_to_fit,2)))\n",
        "elif choice ==2:\n",
        "  kilometer = float(input(\"Enter the kilometer measure: \"))\n",
        "  km_to_mile = (5/8)*kilometer\n",
        "  print(\"{}Km equivalent to {} Mile\".format(kilometer,round(km_to_mile,2)))\n",
        "elif choice == 3:\n",
        "  USD = float(input(\"Enter the USD Currency value: \"))\n",
        "  USD_to_INR = USD*83.10\n",
        "  print(\"{}USD equivalent to {} Mile\".format(USD,round(USD_to_INR,2)))\n",
        "else:\n",
        "  exit()"
      ],
      "metadata": {
        "id": "yBHhaCGQ2zpD",
        "colab": {
          "base_uri": "https://localhost:8080/"
        },
        "outputId": "0a2de467-7671-41b9-ad83-906e6a2ee7ee"
      },
      "execution_count": null,
      "outputs": [
        {
          "output_type": "stream",
          "name": "stdout",
          "text": [
            "\n",
            "            Press 1 to cm to fit:\n",
            "            Press 2 for Km to miles conversion:\n",
            "            Press 3 to USD to INR:\n",
            "            Press 4 to exit:\n",
            "            1\n",
            "Enter the centimeter measure: 100\n",
            "100.0cm equivalent to 3.28 feet\n"
          ]
        }
      ]
    },
    {
      "cell_type": "markdown",
      "source": [
        "### `Problem 5` - Exercise 12: Display Fibonacci series up to 10 terms.\n",
        "\n",
        "*Note: The Fibonacci Sequence is a series of numbers. The next number is found by adding up the two numbers before it. The first two numbers are 0 and 1. For example, 0, 1, 1, 2, 3, 5, 8, 13, 21. The next number in this series above is 13+21 = 34*"
      ],
      "metadata": {
        "id": "LJJ30_Yw27ZU"
      }
    },
    {
      "cell_type": "code",
      "source": [
        "# Write code here\n",
        "terms = int(input(\"Enter the number of terms for Fibonaaci: \"))\n",
        "fibonacci_list = []\n",
        "fibonacci_list.append(0);fibonacci_list.append(1)\n",
        "for i in range(2,terms):\n",
        "  fibonacci_list.append(fibonacci_list[i-2]+fibonacci_list[i-1])\n",
        "print(\"The fibonacci series are: \",fibonacci_list)"
      ],
      "metadata": {
        "id": "ae_1rpe52-5R",
        "colab": {
          "base_uri": "https://localhost:8080/"
        },
        "outputId": "f09d76bc-7721-44ea-d5b0-9730e2e76d88"
      },
      "execution_count": null,
      "outputs": [
        {
          "output_type": "stream",
          "name": "stdout",
          "text": [
            "Enter the number of terms for Fibonaaci: 10\n",
            "The fibonacci series are:  [0, 1, 1, 2, 3, 5, 8, 13, 21, 34]\n"
          ]
        }
      ]
    },
    {
      "cell_type": "markdown",
      "source": [
        "### `Problem 6` - Find the factorial of a given number.\n",
        "\n",
        "Write a program to use the loop to find the factorial of a given number.\n",
        "\n",
        "The factorial (symbol: `!`) means to multiply all whole numbers from the chosen number down to 1.\n",
        "\n",
        "For example: calculate the factorial of 5\n",
        "\n",
        "```bash\n",
        "5! = 5 × 4 × 3 × 2 × 1 = 120\n",
        "```\n",
        "\n",
        "Output:\n",
        "\n",
        "```bash\n",
        "120\n",
        "```"
      ],
      "metadata": {
        "id": "pk_I_S4m3PT5"
      }
    },
    {
      "cell_type": "code",
      "source": [
        "# Write code here\n",
        "num = int(input(\"Enter the number: \"))\n",
        "factorial=1\n",
        "while num>=1:\n",
        "  factorial = factorial*num\n",
        "  num = num-1\n",
        "print(\"The Factorial is: \",factorial)"
      ],
      "metadata": {
        "id": "lzXxHegx3Rkc",
        "colab": {
          "base_uri": "https://localhost:8080/"
        },
        "outputId": "924f0612-27a3-4db5-9c64-5111a281d5a1"
      },
      "execution_count": null,
      "outputs": [
        {
          "output_type": "stream",
          "name": "stdout",
          "text": [
            "Enter the number: 4\n",
            "The Factorial is:  24\n"
          ]
        }
      ]
    },
    {
      "cell_type": "markdown",
      "source": [
        "### `Problem 7` - Reverse a given integer number.\n",
        "\n",
        "Example:\n",
        "\n",
        "`Input:`\n",
        "\n",
        "```bash\n",
        "76542\n",
        "```\n",
        "\n",
        "`Output:`\n",
        "\n",
        "```bash\n",
        "24567\n",
        "```"
      ],
      "metadata": {
        "id": "-17IOi-g3UpU"
      }
    },
    {
      "cell_type": "code",
      "source": [
        "# Write code here\n",
        "num = int(input(\"Enter the number for reversal: \"))\n",
        "reverse_num=0\n",
        "while num>0:\n",
        "  reverse_num = reverse_num*10 + num%10\n",
        "  num = num//10\n",
        "print(\"Revrse number is: \",reverse_num)"
      ],
      "metadata": {
        "id": "wJwLpKCr3aVA",
        "colab": {
          "base_uri": "https://localhost:8080/"
        },
        "outputId": "ae620aab-9b4a-4a1d-f13f-f67ca0fcf191"
      },
      "execution_count": null,
      "outputs": [
        {
          "output_type": "stream",
          "name": "stdout",
          "text": [
            "Enter the number for reversal: 1245\n",
            "Revrse number is:  5421\n"
          ]
        }
      ]
    },
    {
      "cell_type": "markdown",
      "source": [
        "### `Problem 8`: Take a user input as integer N. Find out the sum from 1 to N. If any number if divisible by 5, then skip that number. And if the sum is greater than 300, don't need to calculate the sum further more. Print the final result. And don't use for loop to solve this problem.\n",
        "\n",
        "**Example 1:**\n",
        "\n",
        "`Input:`\n",
        "\n",
        "```bash\n",
        "30\n",
        "```\n",
        "\n",
        "`Output:`\n",
        "\n",
        "```bash\n",
        "276\n",
        "```"
      ],
      "metadata": {
        "id": "-t8PJQaY3sHf"
      }
    },
    {
      "cell_type": "code",
      "source": [
        "# Write code here\n",
        "N = int(input(\"Enter the range: \"))\n",
        "sum_excluding_5_divisible=0\n",
        "i=1\n",
        "while i<=N:\n",
        "  if i%5 != 0:\n",
        "    sum_excluding_5_divisible += i\n",
        "  if sum_excluding_5_divisible>300:\n",
        "    sum_excluding_5_divisible -= i\n",
        "    break\n",
        "  i = i+1\n",
        "print(\"The result excluding 5 divisibility with threshold 300 is: \",sum_excluding_5_divisible)"
      ],
      "metadata": {
        "id": "GZB6mGMP3ujT",
        "colab": {
          "base_uri": "https://localhost:8080/"
        },
        "outputId": "442d4bb3-2d56-4d14-d5e2-2fef5265276d"
      },
      "execution_count": null,
      "outputs": [
        {
          "output_type": "stream",
          "name": "stdout",
          "text": [
            "Enter the range: 30\n",
            "The result excluding 5 divisibility with threshold 300 is:  276\n"
          ]
        }
      ]
    },
    {
      "cell_type": "markdown",
      "source": [
        "### `Problem 9`: Write a program that keeps on accepting a number from the user until the user enters Zero. Display the sum and average of all the numbers."
      ],
      "metadata": {
        "id": "Q7ggImeA3xm4"
      }
    },
    {
      "cell_type": "code",
      "source": [
        "# Write code here\n",
        "num=int(input(\"Enter the number: \"))\n",
        "while num !=0:\n",
        "  if num != 0:\n",
        "    print(\"Enter the number again as it is not zero\")\n",
        "    num = int(input(\"Enter the number: \"))\n",
        "print(\"Input zero successfull!!\")"
      ],
      "metadata": {
        "id": "t_YDSZDe4Kdo",
        "colab": {
          "base_uri": "https://localhost:8080/"
        },
        "outputId": "37c5ad4d-a180-42a2-e689-3e5a23f0d6d6"
      },
      "execution_count": null,
      "outputs": [
        {
          "output_type": "stream",
          "name": "stdout",
          "text": [
            "Enter the number: 34\n",
            "Enter the number again as it is not zero\n",
            "Enter the number: 12\n",
            "Enter the number again as it is not zero\n",
            "Enter the number: 0\n",
            "Input zero successfull!!\n"
          ]
        }
      ]
    },
    {
      "cell_type": "markdown",
      "source": [
        "###`Problem 9`: Write a program which will find all such numbers which are divisible by 7 but are not a multiple of 5, between 2000 and 3200 (both included). The numbers obtained should be printed in a comma-separated sequence on a single line."
      ],
      "metadata": {
        "id": "6EhvEMvm4R7s"
      }
    },
    {
      "cell_type": "code",
      "source": [
        "# Write code here\n",
        "start = 2000\n",
        "end = 3200\n",
        "first_divisible_num = start\n",
        "#Checking first divisible number by 7, so that we can increase loop iteration with 7 in while loop to reduce computation\n",
        "first_divisible_num = start+7-(start%7)\n",
        "\n",
        "i=first_divisible_num\n",
        "while i<=3200:\n",
        "  if i % 7 == 0 and i % 5 !=0:\n",
        "    print(i,sep=',',end=',')\n",
        "  i = i + 1"
      ],
      "metadata": {
        "id": "d6RgP1B34T6c",
        "colab": {
          "base_uri": "https://localhost:8080/"
        },
        "outputId": "7a5728ba-b63b-48f7-9a12-0b51ef7a340c"
      },
      "execution_count": null,
      "outputs": [
        {
          "output_type": "stream",
          "name": "stdout",
          "text": [
            "2002,2009,2016,2023,2037,2044,2051,2058,2072,2079,2086,2093,2107,2114,2121,2128,2142,2149,2156,2163,2177,2184,2191,2198,2212,2219,2226,2233,2247,2254,2261,2268,2282,2289,2296,2303,2317,2324,2331,2338,2352,2359,2366,2373,2387,2394,2401,2408,2422,2429,2436,2443,2457,2464,2471,2478,2492,2499,2506,2513,2527,2534,2541,2548,2562,2569,2576,2583,2597,2604,2611,2618,2632,2639,2646,2653,2667,2674,2681,2688,2702,2709,2716,2723,2737,2744,2751,2758,2772,2779,2786,2793,2807,2814,2821,2828,2842,2849,2856,2863,2877,2884,2891,2898,2912,2919,2926,2933,2947,2954,2961,2968,2982,2989,2996,3003,3017,3024,3031,3038,3052,3059,3066,3073,3087,3094,3101,3108,3122,3129,3136,3143,3157,3164,3171,3178,3192,3199,"
          ]
        }
      ]
    },
    {
      "cell_type": "markdown",
      "source": [
        "###`Problem 10`: Write a program, which will find all such numbers between 1000 and 3000 (both included) such that each digit of the number is an even number. The numbers obtained should be printed in a space-separated sequence on a single line.\n",
        "\n"
      ],
      "metadata": {
        "id": "tYvmRR-G4Vp4"
      }
    },
    {
      "cell_type": "code",
      "source": [
        "# Write code here\n",
        "#As i uderstand the first even number between 1000 and 3000 whose every digit is even will be 2222. Because 0 is not considerd as even number.\n",
        "all_digits_even = 2222 # By finding this I saved computation for runnng 1000 loops.\n",
        "while all_digits_even <=3000:\n",
        "  x=str(all_digits_even)\n",
        "  if int(x[0]) in [2,4,6,8] and int(x[1]) in [2,4,6,8] and int(x[2]) in [2,4,6,8] and int(x[3]) in [2,4,6,8]: #Used static list [2,4,6,8] to ignore 0(not a even digit)\n",
        "    print(all_digits_even,sep=' ',end=' ')\n",
        "  all_digits_even += 2   # loop increment from 2 as even number will be at interval of 2"
      ],
      "metadata": {
        "id": "k6Gs1kIf4k19",
        "colab": {
          "base_uri": "https://localhost:8080/"
        },
        "outputId": "56a212d4-aa1c-4558-b013-61b5022de655"
      },
      "execution_count": null,
      "outputs": [
        {
          "output_type": "stream",
          "name": "stdout",
          "text": [
            "2222 2224 2226 2228 2242 2244 2246 2248 2262 2264 2266 2268 2282 2284 2286 2288 2422 2424 2426 2428 2442 2444 2446 2448 2462 2464 2466 2468 2482 2484 2486 2488 2622 2624 2626 2628 2642 2644 2646 2648 2662 2664 2666 2668 2682 2684 2686 2688 2822 2824 2826 2828 2842 2844 2846 2848 2862 2864 2866 2868 2882 2884 2886 2888 "
          ]
        }
      ]
    },
    {
      "cell_type": "markdown",
      "source": [
        "###`Problem 11`: A robot moves in a plane starting from the original point (0,0). The robot can move toward UP, DOWN, LEFT and RIGHT with a given steps.\n",
        "The trace of robot movement is shown as the following:\n",
        "```\n",
        "UP 5\n",
        "DOWN 3\n",
        "LEFT 3\n",
        "RIGHT 2\n",
        "!\n",
        "```\n",
        "> The numbers after the direction are steps.\n",
        "\n",
        "> `!` means robot stop there.\n",
        "\n",
        "**Please write a program to compute the distance from current position after a sequence of movement and original point.**\n",
        "\n",
        "*If the distance is a float, then just print the nearest integer.*\n",
        "\n",
        "Example:\n",
        "\n",
        "`Input`:\n",
        "```\n",
        "UP 5\n",
        "DOWN 3\n",
        "LEFT 3\n",
        "RIGHT 2\n",
        "!\n",
        "```\n",
        "`Output`:\n",
        "```\n",
        "2\n",
        "```"
      ],
      "metadata": {
        "id": "GV18IINT4mf5"
      }
    },
    {
      "cell_type": "code",
      "source": [
        "# Write code here\n",
        "import math\n",
        "step_choice=None\n",
        "#start_position of robot = (0,0)\n",
        "X_position = 0\n",
        "Y_position = 0\n",
        "while step_choice != '!': # we need to change the co-ordinates of robots untill user enter the symbol \"!\" to stop it\n",
        "  step_choice = input(\"Plese write the robot steps like UP,Down,left,right or '!': \")\n",
        "  if step_choice.upper() == \"UP\":\n",
        "    Y_position = Y_position + float(input(\"enter Robot's Up steps: \"))\n",
        "  elif step_choice.upper() == \"DOWN\":\n",
        "    Y_position = Y_position - float(input(\"enter Robot's Down steps: \"))\n",
        "  elif step_choice.upper() == \"RIGHT\":\n",
        "    X_position = X_position + float(input(\"enter Robot's Right steps: \"))\n",
        "  elif step_choice.upper() == \"LEFT\":\n",
        "    X_position = X_position - float(input(\"enter Robot's Left steps: \"))\n",
        "print(\"The final position of Robot is R({},{})\".format(X_position,Y_position))\n",
        "print(\"Approax distance of robot from R(0,0) is: \",math.floor(math.sqrt(X_position**2+Y_position**2)))"
      ],
      "metadata": {
        "id": "6UNMC2aR4w5x",
        "colab": {
          "base_uri": "https://localhost:8080/"
        },
        "outputId": "db7bf62c-bf93-4303-dbcd-5fd82eff4a16"
      },
      "execution_count": null,
      "outputs": [
        {
          "output_type": "stream",
          "name": "stdout",
          "text": [
            "Plese write the robot steps like UP,Down,left,right or '!': up\n",
            "enter Robot's Up steps: 5\n",
            "Plese write the robot steps like UP,Down,left,right or '!': down\n",
            "enter Robot's Down steps: 3\n",
            "Plese write the robot steps like UP,Down,left,right or '!': left\n",
            "enter Robot's Left steps: 3\n",
            "Plese write the robot steps like UP,Down,left,right or '!': right\n",
            "enter Robot's Right steps: 2\n",
            "Plese write the robot steps like UP,Down,left,right or '!': !\n",
            "The final position of Robot is R(-1.0,2.0)\n",
            "Approax distance of robot from R(0,0) is:  2\n"
          ]
        }
      ]
    },
    {
      "cell_type": "markdown",
      "source": [
        "###`Problem 12`:Write a program to print whether a given number is a prime number or not"
      ],
      "metadata": {
        "id": "3fsAIAhK5GYY"
      }
    },
    {
      "cell_type": "code",
      "source": [
        "# Write code here\n",
        "import math\n",
        "num = int(input(\"Enter the number: \"))\n",
        "flag = 1\n",
        "if num == 2 or num ==3:\n",
        "  print(\"{} is a Prime number\".format(num))\n",
        "else:\n",
        "  for i in range(2,round(math.sqrt(num)+1)):\n",
        "    if num%i != 0:\n",
        "      continue\n",
        "    else:\n",
        "      flag = 0\n",
        "      break\n",
        "    i = i+1\n",
        "if flag==1 and num not in (2,3):  # Because we already did print for prime number 2 and 3\n",
        "  print(\"{} is a Prime number\".format(num))\n",
        "elif flag == 0 and num not in (2,3):\n",
        "  print(\"{} is not a Prime number\".format(num))"
      ],
      "metadata": {
        "id": "j6y91lxy5LZs",
        "colab": {
          "base_uri": "https://localhost:8080/"
        },
        "outputId": "636d7a5e-efe9-44aa-d80b-24ffdc7d6ebb"
      },
      "execution_count": null,
      "outputs": [
        {
          "output_type": "stream",
          "name": "stdout",
          "text": [
            "Enter the number: 187\n",
            "187 is not a Prime number\n"
          ]
        }
      ]
    },
    {
      "cell_type": "markdown",
      "source": [
        "###`Problem 13`:Print all the Armstrong numbers in a given range.\n",
        "Range will be provided by the user<br>\n",
        "Armstrong number is a number that is equal to the sum of cubes of its digits. For example 0, 1, 153, 370, 371 and 407 are the Armstrong numbers."
      ],
      "metadata": {
        "id": "asAbmbK-5NHv"
      }
    },
    {
      "cell_type": "code",
      "source": [
        "# Write code here\n",
        "N_range = int(input(\"Enter the range for Armstrong number: \"))\n",
        "for i in range(0,N_range):\n",
        "  num=i\n",
        "  digit_cube_sum = 0\n",
        "  temp_num = num\n",
        "  while temp_num>=1:\n",
        "    digit_cube_sum = digit_cube_sum + (temp_num%10)**3\n",
        "    temp_num = temp_num//10\n",
        "  if num == digit_cube_sum:\n",
        "    print(\"{} is a Armstrong number.\".format(num))"
      ],
      "metadata": {
        "id": "PZuI67pm5jCT",
        "colab": {
          "base_uri": "https://localhost:8080/"
        },
        "outputId": "f2bdd6ad-8682-4d0b-dd2e-f0c5784c1959"
      },
      "execution_count": null,
      "outputs": [
        {
          "output_type": "stream",
          "name": "stdout",
          "text": [
            "Enter the range for Armstrong number: 500\n",
            "0 is a Armstrong number.\n",
            "1 is a Armstrong number.\n",
            "153 is a Armstrong number.\n",
            "370 is a Armstrong number.\n",
            "371 is a Armstrong number.\n",
            "407 is a Armstrong number.\n"
          ]
        }
      ]
    },
    {
      "cell_type": "markdown",
      "source": [
        "###`Problem 14`:Calculate the angle between the hour hand and minute hand.\n",
        "\n",
        "Note: There can be two angles between hands; we need to print a minimum of two. Also, we need to print the floor of the final result angle. For example, if the final angle is 10.61, we need to print 10.\n",
        "\n",
        "Input:<br>\n",
        "H = 9 , M = 0<br>\n",
        "Output:<br>\n",
        "90<br>\n",
        "Explanation:<br>\n",
        "The minimum angle between hour and minute\n",
        "hand when the time is 9 is 90 degress."
      ],
      "metadata": {
        "id": "ClCQZMqT7gK0"
      }
    },
    {
      "cell_type": "code",
      "source": [
        "# Write code here\n",
        "H = int(input(\"Enter the hour: \"))\n",
        "M = int(input(\"Enter the minute: \"))\n",
        "angle_made_by_minute=0\n",
        "angle_made_by_hour=0\n",
        "if H==0:\n",
        "  angle_made_by_hour=360\n",
        "else:\n",
        "  angle_made_by_hour=30*H  #as hour hand make 30 degree angle per hour\n",
        "if M==0:\n",
        "  angle_made_by_minute=360\n",
        "else:\n",
        "  angle_made_by_minute=6*M  # as minute hand made 6 degree angle per minute\n",
        "print(\"Minmun angle made between hour and minutes: \",abs(angle_made_by_minute-angle_made_by_hour))"
      ],
      "metadata": {
        "id": "tNBTCZML7jy_",
        "colab": {
          "base_uri": "https://localhost:8080/"
        },
        "outputId": "b00dca8a-241f-4324-d85c-dec4edbb3a0e"
      },
      "execution_count": 2,
      "outputs": [
        {
          "output_type": "stream",
          "name": "stdout",
          "text": [
            "Enter the hour: 8\n",
            "Enter the minute: 30\n",
            "Minmun angle made between hour and minutes:  60\n"
          ]
        }
      ]
    },
    {
      "cell_type": "markdown",
      "source": [
        "###`Problem 15`:Given two rectangles, find if the given two rectangles overlap or not. A rectangle is denoted by providing the x and y coordinates of two points: the left top corner and the right bottom corner of the rectangle. Two rectangles sharing a side are considered overlapping. (L1 and R1 are the extreme points of the first rectangle and L2 and R2 are the extreme points of the second rectangle).\n",
        "\n",
        "Note: It may be assumed that the rectangles are parallel to the coordinate axis.\n",
        "\n",
        "<img src='https://www.geeksforgeeks.org/wp-content/uploads/rectanglesOverlap.png' width='300' height='200'>"
      ],
      "metadata": {
        "id": "GwacF9Co72Qc"
      }
    },
    {
      "cell_type": "code",
      "source": [
        "# Write code here\n",
        "l1_x=int(input(\"Enter x cordinate for point l1: \"))\n",
        "l1_y=int(input(\"Enter y cordinate for point l1: \"))\n",
        "r1_x=int(input(\"Enter x cordinate for point r1: \"))\n",
        "r1_y=int(input(\"Enter y cordinate for point r1: \"))\n",
        "print(\"L1 and R1 points are ({},{}),({},{})\".format(l1_x,l1_y,r1_x,r1_y))\n",
        "\n",
        "l2_x=int(input(\"Enter x cordinate for point l2: \"))\n",
        "l2_y=int(input(\"Enter y cordinate for point l2: \"))\n",
        "r2_x=int(input(\"Enter x cordinate for point r2: \"))\n",
        "r2_y=int(input(\"Enter y cordinate for point r2: \"))\n",
        "print(\"L2 and R2 points are ({},{}),({},{})\".format(l2_x,l2_y,r2_x,r2_y))\n",
        "\n",
        "#Checking the rectangle overlapping or not\n",
        "#We are following all the condition which is able to prove that rectangle is seperate.\n",
        "print()\n",
        "if l1_x == r1_x or l1_y == r1_y or r2_x == l2_x or l2_y == r2_y :\n",
        "  print(\"Rectangles not overlapping, as area is zero\")\n",
        "elif l1_x > r2_x or l2_x > r1_x:\n",
        "  print(\"Rectangles not overlapping,left side of one another\")\n",
        "elif r1_y > l2_y or r2_y > l1_y:\n",
        "  print(\"Rectangle is above another\")\n",
        "else:\n",
        "  print(\"Rectangle is overlapping!!\")"
      ],
      "metadata": {
        "id": "6rrw_lpH78Rs",
        "colab": {
          "base_uri": "https://localhost:8080/"
        },
        "outputId": "01be8989-1e9a-4de0-e5ec-17cf8d1ed12e"
      },
      "execution_count": 6,
      "outputs": [
        {
          "output_type": "stream",
          "name": "stdout",
          "text": [
            "Enter x cordinate for point l1: 4\n",
            "Enter y cordinate for point l1: 5\n",
            "Enter x cordinate for point r1: 3\n",
            "Enter y cordinate for point r1: 6\n",
            "L1 and R1 points are (4,5),(3,6)\n",
            "Enter x cordinate for point l2: 7\n",
            "Enter y cordinate for point l2: 8\n",
            "Enter x cordinate for point r2: 9\n",
            "Enter y cordinate for point r2: 12\n",
            "L2 and R2 points are (7,8),(9,12)\n",
            "\n",
            "Rectangles not overlapping,left side of one another\n"
          ]
        }
      ]
    }
  ]
}